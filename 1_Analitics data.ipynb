{
 "cells": [
  {
   "cell_type": "code",
   "execution_count": 1,
   "metadata": {},
   "outputs": [
    {
     "name": "stdout",
     "output_type": "stream",
     "text": [
      "Requirement already satisfied: pandas in c:\\users\\1\\desktop\\chat-bot\\venv\\lib\\site-packages (2.2.2)\n",
      "Requirement already satisfied: numpy>=1.23.2 in c:\\users\\1\\desktop\\chat-bot\\venv\\lib\\site-packages (from pandas) (2.0.1)\n",
      "Requirement already satisfied: python-dateutil>=2.8.2 in c:\\users\\1\\desktop\\chat-bot\\venv\\lib\\site-packages (from pandas) (2.9.0.post0)\n",
      "Requirement already satisfied: pytz>=2020.1 in c:\\users\\1\\desktop\\chat-bot\\venv\\lib\\site-packages (from pandas) (2024.1)\n",
      "Requirement already satisfied: tzdata>=2022.7 in c:\\users\\1\\desktop\\chat-bot\\venv\\lib\\site-packages (from pandas) (2024.1)\n",
      "Requirement already satisfied: six>=1.5 in c:\\users\\1\\desktop\\chat-bot\\venv\\lib\\site-packages (from python-dateutil>=2.8.2->pandas) (1.16.0)\n",
      "Note: you may need to restart the kernel to use updated packages.\n"
     ]
    },
    {
     "name": "stderr",
     "output_type": "stream",
     "text": [
      "\n",
      "[notice] A new release of pip is available: 24.0 -> 24.2\n",
      "[notice] To update, run: python.exe -m pip install --upgrade pip\n"
     ]
    }
   ],
   "source": [
    "%pip install pandas"
   ]
  },
  {
   "cell_type": "code",
   "execution_count": 6,
   "metadata": {},
   "outputs": [
    {
     "name": "stdout",
     "output_type": "stream",
     "text": [
      "Requirement already satisfied: matplotlib in c:\\users\\1\\desktop\\чат-бот\\venv\\lib\\site-packages (3.9.1)\n",
      "Requirement already satisfied: contourpy>=1.0.1 in c:\\users\\1\\desktop\\чат-бот\\venv\\lib\\site-packages (from matplotlib) (1.2.1)\n",
      "Requirement already satisfied: cycler>=0.10 in c:\\users\\1\\desktop\\чат-бот\\venv\\lib\\site-packages (from matplotlib) (0.12.1)\n",
      "Requirement already satisfied: fonttools>=4.22.0 in c:\\users\\1\\desktop\\чат-бот\\venv\\lib\\site-packages (from matplotlib) (4.53.1)\n",
      "Requirement already satisfied: kiwisolver>=1.3.1 in c:\\users\\1\\desktop\\чат-бот\\venv\\lib\\site-packages (from matplotlib) (1.4.5)\n",
      "Requirement already satisfied: numpy>=1.23 in c:\\users\\1\\desktop\\чат-бот\\venv\\lib\\site-packages (from matplotlib) (2.0.1)\n",
      "Requirement already satisfied: packaging>=20.0 in c:\\users\\1\\desktop\\чат-бот\\venv\\lib\\site-packages (from matplotlib) (24.1)\n",
      "Requirement already satisfied: pillow>=8 in c:\\users\\1\\desktop\\чат-бот\\venv\\lib\\site-packages (from matplotlib) (10.4.0)\n",
      "Requirement already satisfied: pyparsing>=2.3.1 in c:\\users\\1\\desktop\\чат-бот\\venv\\lib\\site-packages (from matplotlib) (3.1.2)\n",
      "Requirement already satisfied: python-dateutil>=2.7 in c:\\users\\1\\desktop\\чат-бот\\venv\\lib\\site-packages (from matplotlib) (2.9.0.post0)\n",
      "Requirement already satisfied: six>=1.5 in c:\\users\\1\\desktop\\чат-бот\\venv\\lib\\site-packages (from python-dateutil>=2.7->matplotlib) (1.16.0)\n",
      "Note: you may need to restart the kernel to use updated packages.\n"
     ]
    },
    {
     "name": "stderr",
     "output_type": "stream",
     "text": [
      "\n",
      "[notice] A new release of pip is available: 24.0 -> 24.2\n",
      "[notice] To update, run: python.exe -m pip install --upgrade pip\n"
     ]
    }
   ],
   "source": [
    "%pip install matplotlib"
   ]
  },
  {
   "cell_type": "code",
   "execution_count": 7,
   "metadata": {},
   "outputs": [],
   "source": [
    "import pandas as pd"
   ]
  },
  {
   "cell_type": "code",
   "execution_count": 8,
   "metadata": {},
   "outputs": [],
   "source": [
    "import matplotlib.pyplot as plt\n",
    "%matplotlib inline"
   ]
  },
  {
   "cell_type": "code",
   "execution_count": 10,
   "metadata": {},
   "outputs": [
    {
     "data": {
      "text/html": [
       "<div>\n",
       "<style scoped>\n",
       "    .dataframe tbody tr th:only-of-type {\n",
       "        vertical-align: middle;\n",
       "    }\n",
       "\n",
       "    .dataframe tbody tr th {\n",
       "        vertical-align: top;\n",
       "    }\n",
       "\n",
       "    .dataframe thead th {\n",
       "        text-align: right;\n",
       "    }\n",
       "</style>\n",
       "<table border=\"1\" class=\"dataframe\">\n",
       "  <thead>\n",
       "    <tr style=\"text-align: right;\">\n",
       "      <th></th>\n",
       "      <th>user_id</th>\n",
       "      <th>artistname</th>\n",
       "      <th>trackname</th>\n",
       "      <th>playlistname</th>\n",
       "    </tr>\n",
       "  </thead>\n",
       "  <tbody>\n",
       "    <tr>\n",
       "      <th>0</th>\n",
       "      <td>9cc0cfd4d7d7885102480dd99e7a90d6</td>\n",
       "      <td>Elvis Costello</td>\n",
       "      <td>(The Angels Wanna Wear My) Red Shoes</td>\n",
       "      <td>HARD ROCK 2010</td>\n",
       "    </tr>\n",
       "    <tr>\n",
       "      <th>1</th>\n",
       "      <td>9cc0cfd4d7d7885102480dd99e7a90d6</td>\n",
       "      <td>Elvis Costello &amp; The Attractions</td>\n",
       "      <td>(What's So Funny 'Bout) Peace, Love And Unders...</td>\n",
       "      <td>HARD ROCK 2010</td>\n",
       "    </tr>\n",
       "    <tr>\n",
       "      <th>2</th>\n",
       "      <td>9cc0cfd4d7d7885102480dd99e7a90d6</td>\n",
       "      <td>Tiffany Page</td>\n",
       "      <td>7 Years Too Late</td>\n",
       "      <td>HARD ROCK 2010</td>\n",
       "    </tr>\n",
       "    <tr>\n",
       "      <th>3</th>\n",
       "      <td>9cc0cfd4d7d7885102480dd99e7a90d6</td>\n",
       "      <td>Elvis Costello &amp; The Attractions</td>\n",
       "      <td>Accidents Will Happen</td>\n",
       "      <td>HARD ROCK 2010</td>\n",
       "    </tr>\n",
       "    <tr>\n",
       "      <th>4</th>\n",
       "      <td>9cc0cfd4d7d7885102480dd99e7a90d6</td>\n",
       "      <td>Elvis Costello</td>\n",
       "      <td>Alison</td>\n",
       "      <td>HARD ROCK 2010</td>\n",
       "    </tr>\n",
       "    <tr>\n",
       "      <th>...</th>\n",
       "      <td>...</td>\n",
       "      <td>...</td>\n",
       "      <td>...</td>\n",
       "      <td>...</td>\n",
       "    </tr>\n",
       "    <tr>\n",
       "      <th>12891675</th>\n",
       "      <td>2302bf9c64dc63d88a750215ed187f2c</td>\n",
       "      <td>Mötley Crüe</td>\n",
       "      <td>Wild Side</td>\n",
       "      <td>iPhone</td>\n",
       "    </tr>\n",
       "    <tr>\n",
       "      <th>12891676</th>\n",
       "      <td>2302bf9c64dc63d88a750215ed187f2c</td>\n",
       "      <td>John Lennon</td>\n",
       "      <td>Woman</td>\n",
       "      <td>iPhone</td>\n",
       "    </tr>\n",
       "    <tr>\n",
       "      <th>12891677</th>\n",
       "      <td>2302bf9c64dc63d88a750215ed187f2c</td>\n",
       "      <td>Tom Petty</td>\n",
       "      <td>You Don't Know How It Feels</td>\n",
       "      <td>iPhone</td>\n",
       "    </tr>\n",
       "    <tr>\n",
       "      <th>12891678</th>\n",
       "      <td>2302bf9c64dc63d88a750215ed187f2c</td>\n",
       "      <td>Tom Petty</td>\n",
       "      <td>You Wreck Me</td>\n",
       "      <td>iPhone</td>\n",
       "    </tr>\n",
       "    <tr>\n",
       "      <th>12891679</th>\n",
       "      <td>2302bf9c64dc63d88a750215ed187f2c</td>\n",
       "      <td>Skid Row</td>\n",
       "      <td>Youth Gone Wild</td>\n",
       "      <td>iPhone</td>\n",
       "    </tr>\n",
       "  </tbody>\n",
       "</table>\n",
       "<p>12891680 rows × 4 columns</p>\n",
       "</div>"
      ],
      "text/plain": [
       "                                   user_id                        artistname  \\\n",
       "0         9cc0cfd4d7d7885102480dd99e7a90d6                    Elvis Costello   \n",
       "1         9cc0cfd4d7d7885102480dd99e7a90d6  Elvis Costello & The Attractions   \n",
       "2         9cc0cfd4d7d7885102480dd99e7a90d6                      Tiffany Page   \n",
       "3         9cc0cfd4d7d7885102480dd99e7a90d6  Elvis Costello & The Attractions   \n",
       "4         9cc0cfd4d7d7885102480dd99e7a90d6                    Elvis Costello   \n",
       "...                                    ...                               ...   \n",
       "12891675  2302bf9c64dc63d88a750215ed187f2c                       Mötley Crüe   \n",
       "12891676  2302bf9c64dc63d88a750215ed187f2c                       John Lennon   \n",
       "12891677  2302bf9c64dc63d88a750215ed187f2c                         Tom Petty   \n",
       "12891678  2302bf9c64dc63d88a750215ed187f2c                         Tom Petty   \n",
       "12891679  2302bf9c64dc63d88a750215ed187f2c                          Skid Row   \n",
       "\n",
       "                                                  trackname    playlistname  \n",
       "0                      (The Angels Wanna Wear My) Red Shoes  HARD ROCK 2010  \n",
       "1         (What's So Funny 'Bout) Peace, Love And Unders...  HARD ROCK 2010  \n",
       "2                                          7 Years Too Late  HARD ROCK 2010  \n",
       "3                                     Accidents Will Happen  HARD ROCK 2010  \n",
       "4                                                    Alison  HARD ROCK 2010  \n",
       "...                                                     ...             ...  \n",
       "12891675                                          Wild Side          iPhone  \n",
       "12891676                                              Woman          iPhone  \n",
       "12891677                        You Don't Know How It Feels          iPhone  \n",
       "12891678                                       You Wreck Me          iPhone  \n",
       "12891679                                    Youth Gone Wild          iPhone  \n",
       "\n",
       "[12891680 rows x 4 columns]"
      ]
     },
     "execution_count": 10,
     "metadata": {},
     "output_type": "execute_result"
    }
   ],
   "source": [
    "df = pd.read_csv('z_spotify_dataset.csv', \n",
    "                         skiprows=1,\n",
    "                         names=['user_id', 'artistname', 'trackname', 'playlistname'],\n",
    "                         on_bad_lines='skip')\n",
    "df"
   ]
  },
  {
   "cell_type": "code",
   "execution_count": 11,
   "metadata": {},
   "outputs": [
    {
     "name": "stdout",
     "output_type": "stream",
     "text": [
      "<class 'pandas.core.frame.DataFrame'>\n",
      "RangeIndex: 12891680 entries, 0 to 12891679\n",
      "Data columns (total 4 columns):\n",
      " #   Column        Dtype \n",
      "---  ------        ----- \n",
      " 0   user_id       object\n",
      " 1   artistname    object\n",
      " 2   trackname     object\n",
      " 3   playlistname  object\n",
      "dtypes: object(4)\n",
      "memory usage: 393.4+ MB\n"
     ]
    }
   ],
   "source": [
    "df.info()"
   ]
  },
  {
   "cell_type": "markdown",
   "metadata": {},
   "source": [
    "Данные содержат исключительно категориальные значения"
   ]
  },
  {
   "cell_type": "code",
   "execution_count": 12,
   "metadata": {},
   "outputs": [
    {
     "data": {
      "text/html": [
       "<div>\n",
       "<style scoped>\n",
       "    .dataframe tbody tr th:only-of-type {\n",
       "        vertical-align: middle;\n",
       "    }\n",
       "\n",
       "    .dataframe tbody tr th {\n",
       "        vertical-align: top;\n",
       "    }\n",
       "\n",
       "    .dataframe thead th {\n",
       "        text-align: right;\n",
       "    }\n",
       "</style>\n",
       "<table border=\"1\" class=\"dataframe\">\n",
       "  <thead>\n",
       "    <tr style=\"text-align: right;\">\n",
       "      <th></th>\n",
       "      <th>user_id</th>\n",
       "      <th>artistname</th>\n",
       "      <th>trackname</th>\n",
       "      <th>playlistname</th>\n",
       "    </tr>\n",
       "  </thead>\n",
       "  <tbody>\n",
       "    <tr>\n",
       "      <th>count</th>\n",
       "      <td>12891680</td>\n",
       "      <td>12858108</td>\n",
       "      <td>12891592</td>\n",
       "      <td>12890434</td>\n",
       "    </tr>\n",
       "    <tr>\n",
       "      <th>unique</th>\n",
       "      <td>15918</td>\n",
       "      <td>289820</td>\n",
       "      <td>2032043</td>\n",
       "      <td>157504</td>\n",
       "    </tr>\n",
       "    <tr>\n",
       "      <th>top</th>\n",
       "      <td>4398de6902abde3351347b048fcdc287</td>\n",
       "      <td>Daft Punk</td>\n",
       "      <td>Intro</td>\n",
       "      <td>Starred</td>\n",
       "    </tr>\n",
       "    <tr>\n",
       "      <th>freq</th>\n",
       "      <td>295275</td>\n",
       "      <td>36086</td>\n",
       "      <td>6676</td>\n",
       "      <td>1337085</td>\n",
       "    </tr>\n",
       "  </tbody>\n",
       "</table>\n",
       "</div>"
      ],
      "text/plain": [
       "                                 user_id artistname trackname playlistname\n",
       "count                           12891680   12858108  12891592     12890434\n",
       "unique                             15918     289820   2032043       157504\n",
       "top     4398de6902abde3351347b048fcdc287  Daft Punk     Intro      Starred\n",
       "freq                              295275      36086      6676      1337085"
      ]
     },
     "execution_count": 12,
     "metadata": {},
     "output_type": "execute_result"
    }
   ],
   "source": [
    "df.describe()"
   ]
  },
  {
   "cell_type": "markdown",
   "metadata": {},
   "source": [
    "Колонка user_id заполнена полностью, остальные имеют пробелы\n",
    "Проверим это:"
   ]
  },
  {
   "cell_type": "code",
   "execution_count": 13,
   "metadata": {},
   "outputs": [
    {
     "data": {
      "text/plain": [
       "user_id             0\n",
       "artistname      33572\n",
       "trackname          88\n",
       "playlistname     1246\n",
       "dtype: int64"
      ]
     },
     "execution_count": 13,
     "metadata": {},
     "output_type": "execute_result"
    }
   ],
   "source": [
    "df.isnull().sum()"
   ]
  },
  {
   "cell_type": "markdown",
   "metadata": {},
   "source": [
    "В колонке artistname есть пустые значения. Учитывая, что рекомендательная система должна быть построена в первую очередь на рекомендациях по исполнителю и треку, то данные строки нужно исключить из дата сета. Такие строки, от которых зависит рекомендация, должны быть обязательно заполнены, иначе они будут создавать лишний шум.\n",
    "После исключения проверим вновь, останутся ли пропуски среди других колонок"
   ]
  },
  {
   "cell_type": "code",
   "execution_count": 14,
   "metadata": {},
   "outputs": [],
   "source": [
    "df_clean = df.dropna(subset=['artistname', 'trackname'])"
   ]
  },
  {
   "cell_type": "code",
   "execution_count": 15,
   "metadata": {},
   "outputs": [
    {
     "data": {
      "text/plain": [
       "user_id            0\n",
       "artistname         0\n",
       "trackname          0\n",
       "playlistname    1246\n",
       "dtype: int64"
      ]
     },
     "execution_count": 15,
     "metadata": {},
     "output_type": "execute_result"
    }
   ],
   "source": [
    "df_clean.isnull().sum()"
   ]
  },
  {
   "cell_type": "code",
   "execution_count": 9,
   "metadata": {},
   "outputs": [
    {
     "data": {
      "text/plain": [
       "(12858077, 4)"
      ]
     },
     "execution_count": 9,
     "metadata": {},
     "output_type": "execute_result"
    }
   ],
   "source": [
    "df_clean.shape"
   ]
  },
  {
   "cell_type": "markdown",
   "metadata": {},
   "source": [
    "Колонка playlistname осталась без изменений - 1246 строк не имеют наименования плейлиста. На текущий момент, оставляю эти строки в списке."
   ]
  },
  {
   "cell_type": "code",
   "execution_count": 16,
   "metadata": {},
   "outputs": [
    {
     "data": {
      "text/html": [
       "<div>\n",
       "<style scoped>\n",
       "    .dataframe tbody tr th:only-of-type {\n",
       "        vertical-align: middle;\n",
       "    }\n",
       "\n",
       "    .dataframe tbody tr th {\n",
       "        vertical-align: top;\n",
       "    }\n",
       "\n",
       "    .dataframe thead th {\n",
       "        text-align: right;\n",
       "    }\n",
       "</style>\n",
       "<table border=\"1\" class=\"dataframe\">\n",
       "  <thead>\n",
       "    <tr style=\"text-align: right;\">\n",
       "      <th></th>\n",
       "      <th></th>\n",
       "      <th>artistname</th>\n",
       "      <th>trackname</th>\n",
       "    </tr>\n",
       "    <tr>\n",
       "      <th>user_id</th>\n",
       "      <th>playlistname</th>\n",
       "      <th></th>\n",
       "      <th></th>\n",
       "    </tr>\n",
       "  </thead>\n",
       "  <tbody>\n",
       "    <tr>\n",
       "      <th>4398de6902abde3351347b048fcdc287</th>\n",
       "      <th>Starred</th>\n",
       "      <td>47362</td>\n",
       "      <td>47362</td>\n",
       "    </tr>\n",
       "    <tr>\n",
       "      <th>68756b4d60b6fac27789e85c2b63d1c6</th>\n",
       "      <th>Starred</th>\n",
       "      <td>18509</td>\n",
       "      <td>18509</td>\n",
       "    </tr>\n",
       "    <tr>\n",
       "      <th>c410ee930bd5f0e4893632503ec17b05</th>\n",
       "      <th>Starred</th>\n",
       "      <td>18081</td>\n",
       "      <td>18081</td>\n",
       "    </tr>\n",
       "    <tr>\n",
       "      <th>f2604a69836c94d00fcd11dd602944fc</th>\n",
       "      <th>everything</th>\n",
       "      <td>15213</td>\n",
       "      <td>15213</td>\n",
       "    </tr>\n",
       "    <tr>\n",
       "      <th>6b85a8076b4f3b1036ef15f09e2feeeb</th>\n",
       "      <th>Generos</th>\n",
       "      <td>14854</td>\n",
       "      <td>14854</td>\n",
       "    </tr>\n",
       "    <tr>\n",
       "      <th>...</th>\n",
       "      <th>...</th>\n",
       "      <td>...</td>\n",
       "      <td>...</td>\n",
       "    </tr>\n",
       "    <tr>\n",
       "      <th>63dad8e72eeb1179dd21f279b5a4c603</th>\n",
       "      <th>wiz kid In My Bed / afro</th>\n",
       "      <td>1</td>\n",
       "      <td>1</td>\n",
       "    </tr>\n",
       "    <tr>\n",
       "      <th>63e943a5e78a0d23eb1271d2ea0c97af</th>\n",
       "      <th>Becoming the Gunship</th>\n",
       "      <td>1</td>\n",
       "      <td>1</td>\n",
       "    </tr>\n",
       "    <tr>\n",
       "      <th rowspan=\"3\" valign=\"top\">087f0f8bc5eeab5b2dc81f4ce200fd4e</th>\n",
       "      <th>All Or Nothing</th>\n",
       "      <td>1</td>\n",
       "      <td>1</td>\n",
       "    </tr>\n",
       "    <tr>\n",
       "      <th>Acariciame</th>\n",
       "      <td>1</td>\n",
       "      <td>1</td>\n",
       "    </tr>\n",
       "    <tr>\n",
       "      <th>2 Become 1 - Single Version</th>\n",
       "      <td>1</td>\n",
       "      <td>1</td>\n",
       "    </tr>\n",
       "  </tbody>\n",
       "</table>\n",
       "<p>231560 rows × 2 columns</p>\n",
       "</div>"
      ],
      "text/plain": [
       "                                                              artistname  \\\n",
       "user_id                          playlistname                              \n",
       "4398de6902abde3351347b048fcdc287 Starred                           47362   \n",
       "68756b4d60b6fac27789e85c2b63d1c6 Starred                           18509   \n",
       "c410ee930bd5f0e4893632503ec17b05 Starred                           18081   \n",
       "f2604a69836c94d00fcd11dd602944fc everything                        15213   \n",
       "6b85a8076b4f3b1036ef15f09e2feeeb Generos                           14854   \n",
       "...                                                                  ...   \n",
       "63dad8e72eeb1179dd21f279b5a4c603 wiz kid In My Bed / afro              1   \n",
       "63e943a5e78a0d23eb1271d2ea0c97af Becoming the Gunship                  1   \n",
       "087f0f8bc5eeab5b2dc81f4ce200fd4e All Or Nothing                        1   \n",
       "                                 Acariciame                            1   \n",
       "                                 2 Become 1 - Single Version           1   \n",
       "\n",
       "                                                              trackname  \n",
       "user_id                          playlistname                            \n",
       "4398de6902abde3351347b048fcdc287 Starred                          47362  \n",
       "68756b4d60b6fac27789e85c2b63d1c6 Starred                          18509  \n",
       "c410ee930bd5f0e4893632503ec17b05 Starred                          18081  \n",
       "f2604a69836c94d00fcd11dd602944fc everything                       15213  \n",
       "6b85a8076b4f3b1036ef15f09e2feeeb Generos                          14854  \n",
       "...                                                                 ...  \n",
       "63dad8e72eeb1179dd21f279b5a4c603 wiz kid In My Bed / afro             1  \n",
       "63e943a5e78a0d23eb1271d2ea0c97af Becoming the Gunship                 1  \n",
       "087f0f8bc5eeab5b2dc81f4ce200fd4e All Or Nothing                       1  \n",
       "                                 Acariciame                           1  \n",
       "                                 2 Become 1 - Single Version          1  \n",
       "\n",
       "[231560 rows x 2 columns]"
      ]
     },
     "execution_count": 16,
     "metadata": {},
     "output_type": "execute_result"
    }
   ],
   "source": [
    "# Посмотрим наполнение плейлистов для каждого пользователя\n",
    "top_playlistname = df_clean.groupby(['user_id', 'playlistname']).count().sort_values('artistname', ascending = False)\n",
    "top_playlistname\n",
    "# Заметны повторения названий плейлистов"
   ]
  },
  {
   "cell_type": "code",
   "execution_count": 17,
   "metadata": {},
   "outputs": [
    {
     "data": {
      "text/html": [
       "<div>\n",
       "<style scoped>\n",
       "    .dataframe tbody tr th:only-of-type {\n",
       "        vertical-align: middle;\n",
       "    }\n",
       "\n",
       "    .dataframe tbody tr th {\n",
       "        vertical-align: top;\n",
       "    }\n",
       "\n",
       "    .dataframe thead th {\n",
       "        text-align: right;\n",
       "    }\n",
       "</style>\n",
       "<table border=\"1\" class=\"dataframe\">\n",
       "  <thead>\n",
       "    <tr style=\"text-align: right;\">\n",
       "      <th></th>\n",
       "      <th>user_id</th>\n",
       "      <th>artistname</th>\n",
       "      <th>trackname</th>\n",
       "    </tr>\n",
       "    <tr>\n",
       "      <th>playlistname</th>\n",
       "      <th></th>\n",
       "      <th></th>\n",
       "      <th></th>\n",
       "    </tr>\n",
       "  </thead>\n",
       "  <tbody>\n",
       "    <tr>\n",
       "      <th>Starred</th>\n",
       "      <td>5016</td>\n",
       "      <td>76673</td>\n",
       "      <td>437368</td>\n",
       "    </tr>\n",
       "    <tr>\n",
       "      <th>Liked from Radio</th>\n",
       "      <td>3125</td>\n",
       "      <td>19602</td>\n",
       "      <td>69932</td>\n",
       "    </tr>\n",
       "    <tr>\n",
       "      <th>Favoritas de la radio</th>\n",
       "      <td>745</td>\n",
       "      <td>5960</td>\n",
       "      <td>17018</td>\n",
       "    </tr>\n",
       "    <tr>\n",
       "      <th>My Shazam Tracks</th>\n",
       "      <td>424</td>\n",
       "      <td>5228</td>\n",
       "      <td>8093</td>\n",
       "    </tr>\n",
       "    <tr>\n",
       "      <th>Christmas</th>\n",
       "      <td>312</td>\n",
       "      <td>3048</td>\n",
       "      <td>6958</td>\n",
       "    </tr>\n",
       "    <tr>\n",
       "      <th>...</th>\n",
       "      <td>...</td>\n",
       "      <td>...</td>\n",
       "      <td>...</td>\n",
       "    </tr>\n",
       "    <tr>\n",
       "      <th>37 no son nada\"</th>\n",
       "      <td>1</td>\n",
       "      <td>1</td>\n",
       "      <td>1</td>\n",
       "    </tr>\n",
       "    <tr>\n",
       "      <th>538 Hitzone - Best Of 2012</th>\n",
       "      <td>1</td>\n",
       "      <td>44</td>\n",
       "      <td>45</td>\n",
       "    </tr>\n",
       "    <tr>\n",
       "      <th>80's</th>\n",
       "      <td>1</td>\n",
       "      <td>22</td>\n",
       "      <td>32</td>\n",
       "    </tr>\n",
       "    <tr>\n",
       "      <th>80s</th>\n",
       "      <td>1</td>\n",
       "      <td>3</td>\n",
       "      <td>3</td>\n",
       "    </tr>\n",
       "    <tr>\n",
       "      <th>julia musica</th>\n",
       "      <td>1</td>\n",
       "      <td>48</td>\n",
       "      <td>107</td>\n",
       "    </tr>\n",
       "  </tbody>\n",
       "</table>\n",
       "<p>157320 rows × 3 columns</p>\n",
       "</div>"
      ],
      "text/plain": [
       "                             user_id  artistname  trackname\n",
       "playlistname                                               \n",
       "Starred                         5016       76673     437368\n",
       "Liked from Radio                3125       19602      69932\n",
       "Favoritas de la radio            745        5960      17018\n",
       "My Shazam Tracks                 424        5228       8093\n",
       "Christmas                        312        3048       6958\n",
       "...                              ...         ...        ...\n",
       " 37 no son nada\"                   1           1          1\n",
       " 538 Hitzone - Best Of 2012        1          44         45\n",
       " 80's                              1          22         32\n",
       " 80s                               1           3          3\n",
       "  julia musica                     1          48        107\n",
       "\n",
       "[157320 rows x 3 columns]"
      ]
     },
     "execution_count": 17,
     "metadata": {},
     "output_type": "execute_result"
    }
   ],
   "source": [
    "# сделаем сводку плейлистов и проверим количество уникальных пользователей для каждого названия\n",
    "df_clean.groupby('playlistname').nunique().sort_values('user_id', ascending = False)"
   ]
  },
  {
   "cell_type": "markdown",
   "metadata": {},
   "source": [
    "Благодаря таблицам выше мы видим, что в дата сете присутствуют повторы названий плейлистов у разных пользователей. Следовательно, можно сделать вывод, что обучать модель необходимо на следующих признаках: user_id, artistname, trackname. В виду того, что у каждого пользователя может быть свое видение что ему понравилось, например на радио (\"Liked from Radio\" - 3125 пользователей сделали твиты с таким названием), то и обучить модель на таких разных данных не корректно. Лучше исходить из схожести интересов пользователей. "
   ]
  },
  {
   "cell_type": "code",
   "execution_count": 18,
   "metadata": {},
   "outputs": [
    {
     "data": {
      "text/html": [
       "<div>\n",
       "<style scoped>\n",
       "    .dataframe tbody tr th:only-of-type {\n",
       "        vertical-align: middle;\n",
       "    }\n",
       "\n",
       "    .dataframe tbody tr th {\n",
       "        vertical-align: top;\n",
       "    }\n",
       "\n",
       "    .dataframe thead th {\n",
       "        text-align: right;\n",
       "    }\n",
       "</style>\n",
       "<table border=\"1\" class=\"dataframe\">\n",
       "  <thead>\n",
       "    <tr style=\"text-align: right;\">\n",
       "      <th></th>\n",
       "      <th>artistname</th>\n",
       "      <th>trackname</th>\n",
       "      <th>playlistname</th>\n",
       "    </tr>\n",
       "    <tr>\n",
       "      <th>user_id</th>\n",
       "      <th></th>\n",
       "      <th></th>\n",
       "      <th></th>\n",
       "    </tr>\n",
       "  </thead>\n",
       "  <tbody>\n",
       "    <tr>\n",
       "      <th>872a19d491f4357408551be6d7eea273</th>\n",
       "      <td>617</td>\n",
       "      <td>4086</td>\n",
       "      <td>184</td>\n",
       "    </tr>\n",
       "    <tr>\n",
       "      <th>19ccdb5f2ce9193e6028923f65afaac2</th>\n",
       "      <td>327</td>\n",
       "      <td>1196</td>\n",
       "      <td>105</td>\n",
       "    </tr>\n",
       "    <tr>\n",
       "      <th>57c4979b17f7563f83e69f09701eb584</th>\n",
       "      <td>71</td>\n",
       "      <td>878</td>\n",
       "      <td>76</td>\n",
       "    </tr>\n",
       "    <tr>\n",
       "      <th>39bd43df0c61c451361200312a4ab6e0</th>\n",
       "      <td>672</td>\n",
       "      <td>3644</td>\n",
       "      <td>74</td>\n",
       "    </tr>\n",
       "    <tr>\n",
       "      <th>13c6654d04eb2e0c09671c8868393722</th>\n",
       "      <td>139</td>\n",
       "      <td>1017</td>\n",
       "      <td>68</td>\n",
       "    </tr>\n",
       "    <tr>\n",
       "      <th>...</th>\n",
       "      <td>...</td>\n",
       "      <td>...</td>\n",
       "      <td>...</td>\n",
       "    </tr>\n",
       "    <tr>\n",
       "      <th>c542bad3598f9dd7e338722080625f94</th>\n",
       "      <td>34</td>\n",
       "      <td>38</td>\n",
       "      <td>1</td>\n",
       "    </tr>\n",
       "    <tr>\n",
       "      <th>c52fd58d8a570688a984d2ed64c065fe</th>\n",
       "      <td>1</td>\n",
       "      <td>15</td>\n",
       "      <td>1</td>\n",
       "    </tr>\n",
       "    <tr>\n",
       "      <th>0059ac6b3ba3c3f415f09059a3bd703a</th>\n",
       "      <td>15</td>\n",
       "      <td>167</td>\n",
       "      <td>1</td>\n",
       "    </tr>\n",
       "    <tr>\n",
       "      <th>004e1cd03ad00ebedf071ffd98665649</th>\n",
       "      <td>1</td>\n",
       "      <td>1</td>\n",
       "      <td>1</td>\n",
       "    </tr>\n",
       "    <tr>\n",
       "      <th>00335c41fbebfbcc5faf1edad729f696</th>\n",
       "      <td>4</td>\n",
       "      <td>26</td>\n",
       "      <td>1</td>\n",
       "    </tr>\n",
       "  </tbody>\n",
       "</table>\n",
       "<p>15914 rows × 3 columns</p>\n",
       "</div>"
      ],
      "text/plain": [
       "                                  artistname  trackname  playlistname\n",
       "user_id                                                              \n",
       "872a19d491f4357408551be6d7eea273         617       4086           184\n",
       "19ccdb5f2ce9193e6028923f65afaac2         327       1196           105\n",
       "57c4979b17f7563f83e69f09701eb584          71        878            76\n",
       "39bd43df0c61c451361200312a4ab6e0         672       3644            74\n",
       "13c6654d04eb2e0c09671c8868393722         139       1017            68\n",
       "...                                      ...        ...           ...\n",
       "c542bad3598f9dd7e338722080625f94          34         38             1\n",
       "c52fd58d8a570688a984d2ed64c065fe           1         15             1\n",
       "0059ac6b3ba3c3f415f09059a3bd703a          15        167             1\n",
       "004e1cd03ad00ebedf071ffd98665649           1          1             1\n",
       "00335c41fbebfbcc5faf1edad729f696           4         26             1\n",
       "\n",
       "[15914 rows x 3 columns]"
      ]
     },
     "execution_count": 18,
     "metadata": {},
     "output_type": "execute_result"
    }
   ],
   "source": [
    "# Проверим, на сколько пользователи активны в составлении плейлистов\n",
    "df_clean.groupby('user_id').nunique().sort_values('playlistname', ascending = False)\n",
    "\n",
    "# Как видно из таблицы ниже, есть пользователи, которые составили несколько плейлистов, а есть те, кто составил только один"
   ]
  },
  {
   "cell_type": "code",
   "execution_count": 19,
   "metadata": {},
   "outputs": [
    {
     "data": {
      "text/html": [
       "<div>\n",
       "<style scoped>\n",
       "    .dataframe tbody tr th:only-of-type {\n",
       "        vertical-align: middle;\n",
       "    }\n",
       "\n",
       "    .dataframe tbody tr th {\n",
       "        vertical-align: top;\n",
       "    }\n",
       "\n",
       "    .dataframe thead th {\n",
       "        text-align: right;\n",
       "    }\n",
       "</style>\n",
       "<table border=\"1\" class=\"dataframe\">\n",
       "  <thead>\n",
       "    <tr style=\"text-align: right;\">\n",
       "      <th></th>\n",
       "      <th>user_id</th>\n",
       "      <th>trackname</th>\n",
       "    </tr>\n",
       "  </thead>\n",
       "  <tbody>\n",
       "    <tr>\n",
       "      <th>0</th>\n",
       "      <td>4398de6902abde3351347b048fcdc287</td>\n",
       "      <td>295274</td>\n",
       "    </tr>\n",
       "    <tr>\n",
       "      <th>1</th>\n",
       "      <td>7ee2b92c5bcf6133b8132363e5bda960</td>\n",
       "      <td>90630</td>\n",
       "    </tr>\n",
       "    <tr>\n",
       "      <th>2</th>\n",
       "      <td>99deafd9b792af8e6a535483088faef2</td>\n",
       "      <td>65909</td>\n",
       "    </tr>\n",
       "    <tr>\n",
       "      <th>3</th>\n",
       "      <td>fa849dabeb14a2800ad5130907fc5018</td>\n",
       "      <td>60713</td>\n",
       "    </tr>\n",
       "    <tr>\n",
       "      <th>4</th>\n",
       "      <td>6b85a8076b4f3b1036ef15f09e2feeeb</td>\n",
       "      <td>39592</td>\n",
       "    </tr>\n",
       "    <tr>\n",
       "      <th>...</th>\n",
       "      <td>...</td>\n",
       "      <td>...</td>\n",
       "    </tr>\n",
       "    <tr>\n",
       "      <th>15909</th>\n",
       "      <td>8c7db5f1570e8149015083f16e671e03</td>\n",
       "      <td>1</td>\n",
       "    </tr>\n",
       "    <tr>\n",
       "      <th>15910</th>\n",
       "      <td>8c9d6a258669fab92272b825ad19f308</td>\n",
       "      <td>1</td>\n",
       "    </tr>\n",
       "    <tr>\n",
       "      <th>15911</th>\n",
       "      <td>8cb4f5647b0616e63ca0bc6c3eea24a1</td>\n",
       "      <td>1</td>\n",
       "    </tr>\n",
       "    <tr>\n",
       "      <th>15912</th>\n",
       "      <td>5dc479e1dd91b954f30bee701decf911</td>\n",
       "      <td>1</td>\n",
       "    </tr>\n",
       "    <tr>\n",
       "      <th>15913</th>\n",
       "      <td>fe91e7f04a39b18b3e9ada5e7e4e61da</td>\n",
       "      <td>1</td>\n",
       "    </tr>\n",
       "  </tbody>\n",
       "</table>\n",
       "<p>15914 rows × 2 columns</p>\n",
       "</div>"
      ],
      "text/plain": [
       "                                user_id  trackname\n",
       "0      4398de6902abde3351347b048fcdc287     295274\n",
       "1      7ee2b92c5bcf6133b8132363e5bda960      90630\n",
       "2      99deafd9b792af8e6a535483088faef2      65909\n",
       "3      fa849dabeb14a2800ad5130907fc5018      60713\n",
       "4      6b85a8076b4f3b1036ef15f09e2feeeb      39592\n",
       "...                                 ...        ...\n",
       "15909  8c7db5f1570e8149015083f16e671e03          1\n",
       "15910  8c9d6a258669fab92272b825ad19f308          1\n",
       "15911  8cb4f5647b0616e63ca0bc6c3eea24a1          1\n",
       "15912  5dc479e1dd91b954f30bee701decf911          1\n",
       "15913  fe91e7f04a39b18b3e9ada5e7e4e61da          1\n",
       "\n",
       "[15914 rows x 2 columns]"
      ]
     },
     "execution_count": 19,
     "metadata": {},
     "output_type": "execute_result"
    }
   ],
   "source": [
    "# Посмотрим на количество треков, которые добавил к себе пользователь\n",
    "full_user = df_clean.groupby('user_id')[['trackname']].count().sort_values('trackname', ascending = False).reset_index()\n",
    "full_user"
   ]
  },
  {
   "cell_type": "code",
   "execution_count": 66,
   "metadata": {},
   "outputs": [
    {
     "data": {
      "text/plain": [
       "(12858077, 4)"
      ]
     },
     "execution_count": 66,
     "metadata": {},
     "output_type": "execute_result"
    }
   ],
   "source": [
    "df_clean.shape"
   ]
  },
  {
   "cell_type": "markdown",
   "metadata": {},
   "source": [
    "В дата сете присутствуют пользователи, которые \"очень активные\" и \"не очень активные\". Проверим, сколько пользователей добавили к себе более 1000, от 1000 до 101, от 100 до 11 и менее 11 песен."
   ]
  },
  {
   "cell_type": "code",
   "execution_count": 20,
   "metadata": {},
   "outputs": [
    {
     "name": "stdout",
     "output_type": "stream",
     "text": [
      "Треков менее и равно 10:  user_id      1013\n",
      "trackname    1013\n",
      "dtype: int64\n",
      "Треков менее 100, но более 10:  user_id      3172\n",
      "trackname    3172\n",
      "dtype: int64\n",
      "Треков менее 999, но более 101:  user_id      8334\n",
      "trackname    8334\n",
      "dtype: int64\n",
      "Треков 1000 и более:  user_id      3395\n",
      "trackname    3395\n",
      "dtype: int64\n"
     ]
    }
   ],
   "source": [
    "# количество пользователей, у которых количество треков менее и равно 10\n",
    "print(\"Треков менее и равно 10: \", full_user[full_user.trackname <= 10].count())\n",
    "\n",
    "# количество пользователей, у которых количество треков менее 101, но более 10\n",
    "print(\"Треков менее 100, но более 10: \", full_user[(full_user.trackname <= 100) & (full_user.trackname > 10)].count())\n",
    "\n",
    "# количество пользователей, у которых количество треков менее 1001, но более 101\n",
    "print(\"Треков менее 999, но более 101: \", full_user[(full_user.trackname <= 999) & (full_user.trackname > 100)].count())\n",
    "\n",
    "# количество пользователей, у которых количество треков 1000 и более\n",
    "print(\"Треков 1000 и более: \", full_user[full_user.trackname > 999].count())"
   ]
  },
  {
   "cell_type": "markdown",
   "metadata": {},
   "source": [
    "Из общего количества пользователей - 15 893, около 26,3% пользователей имеют в своем активе 100 и менее песен. Остальная же часть (73.7%) являются \"более активными пользователями\" и имеют сравнительно большее количество песен.\n",
    "В связи с этим, 26,3% пользователей будут исключены из дата сета, т.к. наличие \"более активных пользователей\" может привести к ухудшению результатов в обучении модели."
   ]
  },
  {
   "cell_type": "code",
   "execution_count": 21,
   "metadata": {},
   "outputs": [],
   "source": [
    "# Вывожу всех пользователей, у которых треков 100 и менее в отдельный список\n",
    "lst_user = full_user[full_user.trackname <= 100]['user_id'].tolist()"
   ]
  },
  {
   "cell_type": "code",
   "execution_count": 22,
   "metadata": {},
   "outputs": [],
   "source": [
    "# перезаписываю датафрейм, в котором исключаю всех пользователей у котрых количество треков 100 и менее\n",
    "df_clean = df_clean[df_clean.user_id.isin(lst_user) == False]"
   ]
  },
  {
   "cell_type": "code",
   "execution_count": 23,
   "metadata": {},
   "outputs": [
    {
     "data": {
      "text/html": [
       "<div>\n",
       "<style scoped>\n",
       "    .dataframe tbody tr th:only-of-type {\n",
       "        vertical-align: middle;\n",
       "    }\n",
       "\n",
       "    .dataframe tbody tr th {\n",
       "        vertical-align: top;\n",
       "    }\n",
       "\n",
       "    .dataframe thead th {\n",
       "        text-align: right;\n",
       "    }\n",
       "</style>\n",
       "<table border=\"1\" class=\"dataframe\">\n",
       "  <thead>\n",
       "    <tr style=\"text-align: right;\">\n",
       "      <th></th>\n",
       "      <th>user_id</th>\n",
       "      <th>trackname</th>\n",
       "    </tr>\n",
       "  </thead>\n",
       "  <tbody>\n",
       "    <tr>\n",
       "      <th>0</th>\n",
       "      <td>4398de6902abde3351347b048fcdc287</td>\n",
       "      <td>295274</td>\n",
       "    </tr>\n",
       "    <tr>\n",
       "      <th>1</th>\n",
       "      <td>7ee2b92c5bcf6133b8132363e5bda960</td>\n",
       "      <td>90630</td>\n",
       "    </tr>\n",
       "    <tr>\n",
       "      <th>2</th>\n",
       "      <td>99deafd9b792af8e6a535483088faef2</td>\n",
       "      <td>65909</td>\n",
       "    </tr>\n",
       "    <tr>\n",
       "      <th>3</th>\n",
       "      <td>fa849dabeb14a2800ad5130907fc5018</td>\n",
       "      <td>60713</td>\n",
       "    </tr>\n",
       "    <tr>\n",
       "      <th>4</th>\n",
       "      <td>6b85a8076b4f3b1036ef15f09e2feeeb</td>\n",
       "      <td>39592</td>\n",
       "    </tr>\n",
       "    <tr>\n",
       "      <th>...</th>\n",
       "      <td>...</td>\n",
       "      <td>...</td>\n",
       "    </tr>\n",
       "    <tr>\n",
       "      <th>11724</th>\n",
       "      <td>1bdace870bc8569fdf0dca8497d637dd</td>\n",
       "      <td>101</td>\n",
       "    </tr>\n",
       "    <tr>\n",
       "      <th>11725</th>\n",
       "      <td>673cb01c98ae6d9f91e0334045effb7a</td>\n",
       "      <td>101</td>\n",
       "    </tr>\n",
       "    <tr>\n",
       "      <th>11726</th>\n",
       "      <td>1b51b1b406f7dceeeab4c3eff428ed64</td>\n",
       "      <td>101</td>\n",
       "    </tr>\n",
       "    <tr>\n",
       "      <th>11727</th>\n",
       "      <td>c929ca67a2f4e9d2b1462b09055a2ba9</td>\n",
       "      <td>101</td>\n",
       "    </tr>\n",
       "    <tr>\n",
       "      <th>11728</th>\n",
       "      <td>23c1ee7b8b63ff58c88fc81a5fc3f9e7</td>\n",
       "      <td>101</td>\n",
       "    </tr>\n",
       "  </tbody>\n",
       "</table>\n",
       "<p>11729 rows × 2 columns</p>\n",
       "</div>"
      ],
      "text/plain": [
       "                                user_id  trackname\n",
       "0      4398de6902abde3351347b048fcdc287     295274\n",
       "1      7ee2b92c5bcf6133b8132363e5bda960      90630\n",
       "2      99deafd9b792af8e6a535483088faef2      65909\n",
       "3      fa849dabeb14a2800ad5130907fc5018      60713\n",
       "4      6b85a8076b4f3b1036ef15f09e2feeeb      39592\n",
       "...                                 ...        ...\n",
       "11724  1bdace870bc8569fdf0dca8497d637dd        101\n",
       "11725  673cb01c98ae6d9f91e0334045effb7a        101\n",
       "11726  1b51b1b406f7dceeeab4c3eff428ed64        101\n",
       "11727  c929ca67a2f4e9d2b1462b09055a2ba9        101\n",
       "11728  23c1ee7b8b63ff58c88fc81a5fc3f9e7        101\n",
       "\n",
       "[11729 rows x 2 columns]"
      ]
     },
     "execution_count": 23,
     "metadata": {},
     "output_type": "execute_result"
    }
   ],
   "source": [
    "df_clean.groupby('user_id')[['trackname']].count().sort_values('trackname', ascending = False).reset_index()"
   ]
  },
  {
   "cell_type": "code",
   "execution_count": 71,
   "metadata": {},
   "outputs": [
    {
     "data": {
      "text/plain": [
       "(12706733, 4)"
      ]
     },
     "execution_count": 71,
     "metadata": {},
     "output_type": "execute_result"
    }
   ],
   "source": [
    "df_clean.shape"
   ]
  },
  {
   "cell_type": "code",
   "execution_count": 24,
   "metadata": {},
   "outputs": [
    {
     "data": {
      "text/html": [
       "<div>\n",
       "<style scoped>\n",
       "    .dataframe tbody tr th:only-of-type {\n",
       "        vertical-align: middle;\n",
       "    }\n",
       "\n",
       "    .dataframe tbody tr th {\n",
       "        vertical-align: top;\n",
       "    }\n",
       "\n",
       "    .dataframe thead th {\n",
       "        text-align: right;\n",
       "    }\n",
       "</style>\n",
       "<table border=\"1\" class=\"dataframe\">\n",
       "  <thead>\n",
       "    <tr style=\"text-align: right;\">\n",
       "      <th></th>\n",
       "      <th>artistname</th>\n",
       "      <th>user_id</th>\n",
       "      <th>trackname</th>\n",
       "      <th>playlistname</th>\n",
       "    </tr>\n",
       "  </thead>\n",
       "  <tbody>\n",
       "    <tr>\n",
       "      <th>0</th>\n",
       "      <td>Daft Punk</td>\n",
       "      <td>35452</td>\n",
       "      <td>35452</td>\n",
       "      <td>35452</td>\n",
       "    </tr>\n",
       "    <tr>\n",
       "      <th>1</th>\n",
       "      <td>Coldplay</td>\n",
       "      <td>34805</td>\n",
       "      <td>34805</td>\n",
       "      <td>34805</td>\n",
       "    </tr>\n",
       "    <tr>\n",
       "      <th>2</th>\n",
       "      <td>Radiohead</td>\n",
       "      <td>31010</td>\n",
       "      <td>31010</td>\n",
       "      <td>31010</td>\n",
       "    </tr>\n",
       "    <tr>\n",
       "      <th>3</th>\n",
       "      <td>The Rolling Stones</td>\n",
       "      <td>30573</td>\n",
       "      <td>30573</td>\n",
       "      <td>30555</td>\n",
       "    </tr>\n",
       "    <tr>\n",
       "      <th>4</th>\n",
       "      <td>Kanye West</td>\n",
       "      <td>28671</td>\n",
       "      <td>28671</td>\n",
       "      <td>28671</td>\n",
       "    </tr>\n",
       "    <tr>\n",
       "      <th>...</th>\n",
       "      <td>...</td>\n",
       "      <td>...</td>\n",
       "      <td>...</td>\n",
       "      <td>...</td>\n",
       "    </tr>\n",
       "    <tr>\n",
       "      <th>287747</th>\n",
       "      <td>﻿Butch</td>\n",
       "      <td>1</td>\n",
       "      <td>1</td>\n",
       "      <td>1</td>\n",
       "    </tr>\n",
       "    <tr>\n",
       "      <th>287748</th>\n",
       "      <td>﻿Lil Jon</td>\n",
       "      <td>1</td>\n",
       "      <td>1</td>\n",
       "      <td>1</td>\n",
       "    </tr>\n",
       "    <tr>\n",
       "      <th>287749</th>\n",
       "      <td>＀﹚edd feat. Matthew Koma</td>\n",
       "      <td>1</td>\n",
       "      <td>1</td>\n",
       "      <td>1</td>\n",
       "    </tr>\n",
       "    <tr>\n",
       "      <th>287750</th>\n",
       "      <td>ＡＫＩＮＯ</td>\n",
       "      <td>1</td>\n",
       "      <td>1</td>\n",
       "      <td>1</td>\n",
       "    </tr>\n",
       "    <tr>\n",
       "      <th>287751</th>\n",
       "      <td>Ｈｕｓｔｌｅｒｓ　Ｃｏｎｖｅｎｔｉｏｎ</td>\n",
       "      <td>1</td>\n",
       "      <td>1</td>\n",
       "      <td>1</td>\n",
       "    </tr>\n",
       "  </tbody>\n",
       "</table>\n",
       "<p>287752 rows × 4 columns</p>\n",
       "</div>"
      ],
      "text/plain": [
       "                      artistname  user_id  trackname  playlistname\n",
       "0                      Daft Punk    35452      35452         35452\n",
       "1                       Coldplay    34805      34805         34805\n",
       "2                      Radiohead    31010      31010         31010\n",
       "3             The Rolling Stones    30573      30573         30555\n",
       "4                     Kanye West    28671      28671         28671\n",
       "...                          ...      ...        ...           ...\n",
       "287747                    ﻿Butch        1          1             1\n",
       "287748                  ﻿Lil Jon        1          1             1\n",
       "287749  ＀﹚edd feat. Matthew Koma        1          1             1\n",
       "287750                     ＡＫＩＮＯ        1          1             1\n",
       "287751       Ｈｕｓｔｌｅｒｓ　Ｃｏｎｖｅｎｔｉｏｎ        1          1             1\n",
       "\n",
       "[287752 rows x 4 columns]"
      ]
     },
     "execution_count": 24,
     "metadata": {},
     "output_type": "execute_result"
    }
   ],
   "source": [
    "# Посмотрим наиболее полулярного артиста среди пользователей\n",
    "top_artists = df_clean.groupby('artistname').count().sort_values('user_id', ascending=False).reset_index()\n",
    "top_artists\n",
    "\n",
    "# Общая сводка по всем пользователям, по всем плейлистам с учетом повторений наименования артиста"
   ]
  },
  {
   "cell_type": "markdown",
   "metadata": {},
   "source": [
    "Исполнителя Daft Punk пользователи добавляли чаще всего в плейлисты"
   ]
  },
  {
   "cell_type": "code",
   "execution_count": 25,
   "metadata": {},
   "outputs": [
    {
     "data": {
      "text/html": [
       "<div>\n",
       "<style scoped>\n",
       "    .dataframe tbody tr th:only-of-type {\n",
       "        vertical-align: middle;\n",
       "    }\n",
       "\n",
       "    .dataframe tbody tr th {\n",
       "        vertical-align: top;\n",
       "    }\n",
       "\n",
       "    .dataframe thead th {\n",
       "        text-align: right;\n",
       "    }\n",
       "</style>\n",
       "<table border=\"1\" class=\"dataframe\">\n",
       "  <thead>\n",
       "    <tr style=\"text-align: right;\">\n",
       "      <th></th>\n",
       "      <th>artistname</th>\n",
       "      <th>user_id</th>\n",
       "      <th>trackname</th>\n",
       "      <th>playlistname</th>\n",
       "    </tr>\n",
       "  </thead>\n",
       "  <tbody>\n",
       "    <tr>\n",
       "      <th>0</th>\n",
       "      <td>Daft Punk</td>\n",
       "      <td>4388</td>\n",
       "      <td>641</td>\n",
       "      <td>5590</td>\n",
       "    </tr>\n",
       "    <tr>\n",
       "      <th>1</th>\n",
       "      <td>Coldplay</td>\n",
       "      <td>4328</td>\n",
       "      <td>466</td>\n",
       "      <td>6119</td>\n",
       "    </tr>\n",
       "    <tr>\n",
       "      <th>2</th>\n",
       "      <td>Rihanna</td>\n",
       "      <td>3806</td>\n",
       "      <td>666</td>\n",
       "      <td>5572</td>\n",
       "    </tr>\n",
       "    <tr>\n",
       "      <th>3</th>\n",
       "      <td>David Guetta</td>\n",
       "      <td>3573</td>\n",
       "      <td>704</td>\n",
       "      <td>5018</td>\n",
       "    </tr>\n",
       "    <tr>\n",
       "      <th>4</th>\n",
       "      <td>JAY Z</td>\n",
       "      <td>3465</td>\n",
       "      <td>585</td>\n",
       "      <td>4439</td>\n",
       "    </tr>\n",
       "    <tr>\n",
       "      <th>...</th>\n",
       "      <td>...</td>\n",
       "      <td>...</td>\n",
       "      <td>...</td>\n",
       "      <td>...</td>\n",
       "    </tr>\n",
       "    <tr>\n",
       "      <th>287747</th>\n",
       "      <td>#1 Katy Perry Tribute Band</td>\n",
       "      <td>1</td>\n",
       "      <td>2</td>\n",
       "      <td>1</td>\n",
       "    </tr>\n",
       "    <tr>\n",
       "      <th>287748</th>\n",
       "      <td>티아라(Tiara)</td>\n",
       "      <td>1</td>\n",
       "      <td>1</td>\n",
       "      <td>1</td>\n",
       "    </tr>\n",
       "    <tr>\n",
       "      <th>287749</th>\n",
       "      <td>티아라 (T-ara)</td>\n",
       "      <td>1</td>\n",
       "      <td>1</td>\n",
       "      <td>1</td>\n",
       "    </tr>\n",
       "    <tr>\n",
       "      <th>287750</th>\n",
       "      <td>#1 Charity Songs</td>\n",
       "      <td>1</td>\n",
       "      <td>1</td>\n",
       "      <td>1</td>\n",
       "    </tr>\n",
       "    <tr>\n",
       "      <th>287751</th>\n",
       "      <td>#1 Carnival Songs</td>\n",
       "      <td>1</td>\n",
       "      <td>1</td>\n",
       "      <td>1</td>\n",
       "    </tr>\n",
       "  </tbody>\n",
       "</table>\n",
       "<p>287752 rows × 4 columns</p>\n",
       "</div>"
      ],
      "text/plain": [
       "                        artistname  user_id  trackname  playlistname\n",
       "0                        Daft Punk     4388        641          5590\n",
       "1                         Coldplay     4328        466          6119\n",
       "2                          Rihanna     3806        666          5572\n",
       "3                     David Guetta     3573        704          5018\n",
       "4                            JAY Z     3465        585          4439\n",
       "...                            ...      ...        ...           ...\n",
       "287747  #1 Katy Perry Tribute Band        1          2             1\n",
       "287748                  티아라(Tiara)        1          1             1\n",
       "287749                 티아라 (T-ara)        1          1             1\n",
       "287750            #1 Charity Songs        1          1             1\n",
       "287751           #1 Carnival Songs        1          1             1\n",
       "\n",
       "[287752 rows x 4 columns]"
      ]
     },
     "execution_count": 25,
     "metadata": {},
     "output_type": "execute_result"
    }
   ],
   "source": [
    "# Сводка артистов и количество уникальных пользователей, которым интересно творчество и количество их композиций, которые были добавлены в плейлисты\n",
    "top_artists_nunique = df_clean.groupby('artistname').nunique().sort_values('user_id', ascending=False).reset_index()\n",
    "top_artists_nunique"
   ]
  },
  {
   "cell_type": "markdown",
   "metadata": {},
   "source": [
    "Однако, степень популярности исполнителя более показательна по тому, насколько чаще добавляют трек исполнителя к себе в плейлист. Поэтому будем работать с таблицей общей сводки артистов."
   ]
  },
  {
   "cell_type": "code",
   "execution_count": 26,
   "metadata": {},
   "outputs": [
    {
     "name": "stdout",
     "output_type": "stream",
     "text": [
      "Добавляли 10 и менее треков:  219650\n",
      "Добавляли 11 - 100:  54060\n",
      "Добавляли более 100:  14042\n"
     ]
    }
   ],
   "source": [
    "# Посмотрим, у скольких артистов пользователи добавили треки 10 и менее, 11 - 100, более 100\n",
    "\n",
    "print(\"Добавляли 10 и менее треков: \", top_artists['user_id'][top_artists.user_id <= 10].count())\n",
    "print(\"Добавляли 11 - 100: \", top_artists['user_id'][(top_artists.user_id > 10) & (top_artists.user_id <= 100)].count())\n",
    "print(\"Добавляли более 100: \", top_artists['user_id'][top_artists.user_id > 100].count())"
   ]
  },
  {
   "cell_type": "markdown",
   "metadata": {},
   "source": [
    "Как видим, у подавляющего числа исполнителей добавляли треки 10 и менее раз. Следовательно, исполнители малоизвестны и менее популярны. В данном случае предполагается отказаться от этих исполнителей, т.к. обычно, при рекомендации - пользователь более доволен подборкой из наиболее популярных треков."
   ]
  },
  {
   "cell_type": "code",
   "execution_count": 27,
   "metadata": {},
   "outputs": [],
   "source": [
    "# Записываю в лист всех исполнителей, которых добавляли менее 11 раз\n",
    "lst_artist = top_artists['artistname'][top_artists.user_id <= 10].tolist()"
   ]
  },
  {
   "cell_type": "code",
   "execution_count": 28,
   "metadata": {},
   "outputs": [],
   "source": [
    "# Удаляем строки с артистами, которых добавляли менее 11 раз\n",
    "df_clean = df_clean[df_clean.artistname.isin(lst_artist) == False]\n"
   ]
  },
  {
   "cell_type": "code",
   "execution_count": 77,
   "metadata": {},
   "outputs": [
    {
     "data": {
      "text/plain": [
       "(12153924, 4)"
      ]
     },
     "execution_count": 77,
     "metadata": {},
     "output_type": "execute_result"
    }
   ],
   "source": [
    "df_clean.shape"
   ]
  },
  {
   "cell_type": "code",
   "execution_count": 29,
   "metadata": {},
   "outputs": [
    {
     "data": {
      "text/plain": [
       "np.int64(3539)"
      ]
     },
     "execution_count": 29,
     "metadata": {},
     "output_type": "execute_result"
    }
   ],
   "source": [
    "# Сколько артистов имеют не более 3 песен\n",
    "tree_song = df_clean.groupby('artistname').nunique().sort_values('trackname', ascending=False).reset_index()\n",
    "tree_song[tree_song.trackname <= 3]['trackname'].count()"
   ]
  },
  {
   "cell_type": "markdown",
   "metadata": {},
   "source": [
    "Данные исполнители весьма не показательны. Если есть или просто найдены не более 3 треков - говорит о том, что исполнитель не на столько известен"
   ]
  },
  {
   "cell_type": "code",
   "execution_count": 30,
   "metadata": {},
   "outputs": [],
   "source": [
    "lst_tree_song = tree_song[tree_song.trackname <= 3]['artistname'].tolist()"
   ]
  },
  {
   "cell_type": "code",
   "execution_count": 31,
   "metadata": {},
   "outputs": [],
   "source": [
    "# Удаляем строки с исполнителями, которые имеют только 3 добавленные песни\n",
    "df_clean = df_clean[df_clean.artistname.isin(lst_tree_song) == False]"
   ]
  },
  {
   "cell_type": "code",
   "execution_count": 82,
   "metadata": {},
   "outputs": [
    {
     "data": {
      "text/plain": [
       "(12017852, 4)"
      ]
     },
     "execution_count": 82,
     "metadata": {},
     "output_type": "execute_result"
    }
   ],
   "source": [
    "df_clean.shape"
   ]
  },
  {
   "cell_type": "code",
   "execution_count": 20,
   "metadata": {},
   "outputs": [
    {
     "data": {
      "text/html": [
       "<div>\n",
       "<style scoped>\n",
       "    .dataframe tbody tr th:only-of-type {\n",
       "        vertical-align: middle;\n",
       "    }\n",
       "\n",
       "    .dataframe tbody tr th {\n",
       "        vertical-align: top;\n",
       "    }\n",
       "\n",
       "    .dataframe thead th {\n",
       "        text-align: right;\n",
       "    }\n",
       "</style>\n",
       "<table border=\"1\" class=\"dataframe\">\n",
       "  <thead>\n",
       "    <tr style=\"text-align: right;\">\n",
       "      <th></th>\n",
       "      <th>artistname</th>\n",
       "      <th>trackname</th>\n",
       "      <th>user_id</th>\n",
       "      <th>playlistname</th>\n",
       "    </tr>\n",
       "  </thead>\n",
       "  <tbody>\n",
       "    <tr>\n",
       "      <th>0</th>\n",
       "      <td>M83</td>\n",
       "      <td>Midnight City</td>\n",
       "      <td>2609</td>\n",
       "      <td>2609</td>\n",
       "    </tr>\n",
       "    <tr>\n",
       "      <th>1</th>\n",
       "      <td>Daft Punk</td>\n",
       "      <td>Get Lucky - Radio Edit</td>\n",
       "      <td>2341</td>\n",
       "      <td>2341</td>\n",
       "    </tr>\n",
       "    <tr>\n",
       "      <th>2</th>\n",
       "      <td>Imagine Dragons</td>\n",
       "      <td>Radioactive</td>\n",
       "      <td>2336</td>\n",
       "      <td>2336</td>\n",
       "    </tr>\n",
       "    <tr>\n",
       "      <th>3</th>\n",
       "      <td>Of Monsters and Men</td>\n",
       "      <td>Little Talks</td>\n",
       "      <td>2254</td>\n",
       "      <td>2254</td>\n",
       "    </tr>\n",
       "    <tr>\n",
       "      <th>4</th>\n",
       "      <td>Avicii</td>\n",
       "      <td>Wake Me Up</td>\n",
       "      <td>2242</td>\n",
       "      <td>2242</td>\n",
       "    </tr>\n",
       "    <tr>\n",
       "      <th>...</th>\n",
       "      <td>...</td>\n",
       "      <td>...</td>\n",
       "      <td>...</td>\n",
       "      <td>...</td>\n",
       "    </tr>\n",
       "    <tr>\n",
       "      <th>2367589</th>\n",
       "      <td>아마츄어 증폭기</td>\n",
       "      <td>프롤레타리아트</td>\n",
       "      <td>1</td>\n",
       "      <td>1</td>\n",
       "    </tr>\n",
       "    <tr>\n",
       "      <th>2367590</th>\n",
       "      <td>!!!</td>\n",
       "      <td>Broadway [Gimme The Lights On] (Romare Mix)</td>\n",
       "      <td>1</td>\n",
       "      <td>1</td>\n",
       "    </tr>\n",
       "    <tr>\n",
       "      <th>2367591</th>\n",
       "      <td>아마츄어 증폭기</td>\n",
       "      <td>사소설</td>\n",
       "      <td>1</td>\n",
       "      <td>1</td>\n",
       "    </tr>\n",
       "    <tr>\n",
       "      <th>2367592</th>\n",
       "      <td>아마츄어 증폭기</td>\n",
       "      <td>산양</td>\n",
       "      <td>1</td>\n",
       "      <td>1</td>\n",
       "    </tr>\n",
       "    <tr>\n",
       "      <th>2367593</th>\n",
       "      <td>아마츄어 증폭기</td>\n",
       "      <td>삼촌손으로</td>\n",
       "      <td>1</td>\n",
       "      <td>1</td>\n",
       "    </tr>\n",
       "  </tbody>\n",
       "</table>\n",
       "<p>2367594 rows × 4 columns</p>\n",
       "</div>"
      ],
      "text/plain": [
       "                  artistname                                    trackname  \\\n",
       "0                        M83                                Midnight City   \n",
       "1                  Daft Punk                       Get Lucky - Radio Edit   \n",
       "2            Imagine Dragons                                  Radioactive   \n",
       "3        Of Monsters and Men                                 Little Talks   \n",
       "4                     Avicii                                   Wake Me Up   \n",
       "...                      ...                                          ...   \n",
       "2367589             아마츄어 증폭기                                      프롤레타리아트   \n",
       "2367590                  !!!  Broadway [Gimme The Lights On] (Romare Mix)   \n",
       "2367591             아마츄어 증폭기                                          사소설   \n",
       "2367592             아마츄어 증폭기                                           산양   \n",
       "2367593             아마츄어 증폭기                                        삼촌손으로   \n",
       "\n",
       "         user_id  playlistname  \n",
       "0           2609          2609  \n",
       "1           2341          2341  \n",
       "2           2336          2336  \n",
       "3           2254          2254  \n",
       "4           2242          2242  \n",
       "...          ...           ...  \n",
       "2367589        1             1  \n",
       "2367590        1             1  \n",
       "2367591        1             1  \n",
       "2367592        1             1  \n",
       "2367593        1             1  \n",
       "\n",
       "[2367594 rows x 4 columns]"
      ]
     },
     "execution_count": 20,
     "metadata": {},
     "output_type": "execute_result"
    }
   ],
   "source": [
    "# # Посмотрим наиболее популярный трек среди пользователей\n",
    "# top_song = df_clean.groupby(['artistname','trackname']).count().sort_values('user_id', ascending=False).reset_index()\n",
    "# top_song"
   ]
  },
  {
   "cell_type": "markdown",
   "metadata": {},
   "source": [
    "<!-- Сделаем градацию по добавлению пользователями песен: 1 песня, 2-10, 10-100, свыше 100 -->"
   ]
  },
  {
   "cell_type": "code",
   "execution_count": 21,
   "metadata": {},
   "outputs": [
    {
     "name": "stdout",
     "output_type": "stream",
     "text": [
      "Песню добавил только 1 пользователь:  1238626\n",
      "Песню добавили 2-10 пользователей:  1115980\n",
      "Песню добавили свыше 100 пользователей:  12988\n"
     ]
    }
   ],
   "source": [
    "# print('Песню добавил только 1 пользователь: ', top_song[top_song.user_id == 1]['user_id'].count())\n",
    "# print('Песню добавили 2-10 пользователей: ', top_song[(top_song.user_id > 1) & (top_song.user_id <= 100)]['user_id'].count())\n",
    "# print('Песню добавили свыше 100 пользователей: ', top_song[top_song.user_id > 100]['user_id'].count())"
   ]
  },
  {
   "cell_type": "markdown",
   "metadata": {},
   "source": [
    "На основе отчищенных от \"шумов\" данных создаем матрицу соответствия. Строками будут являтся пользователи, колонками исполнители, в соответствующей клетке пересечения будет накапливаться сумма треков добавленных пользователем соответствующего исполнителя. Для приведения матрицы к содержанию только нулей и единиц - разделим матрицу на матрицу "
   ]
  },
  {
   "cell_type": "code",
   "execution_count": 32,
   "metadata": {},
   "outputs": [],
   "source": [
    "df_clean.to_csv('dataset_clean.csv', index=False)"
   ]
  }
 ],
 "metadata": {
  "kernelspec": {
   "display_name": "Python 3",
   "language": "python",
   "name": "python3"
  },
  "language_info": {
   "codemirror_mode": {
    "name": "ipython",
    "version": 3
   },
   "file_extension": ".py",
   "mimetype": "text/x-python",
   "name": "python",
   "nbconvert_exporter": "python",
   "pygments_lexer": "ipython3",
   "version": "3.11.9"
  }
 },
 "nbformat": 4,
 "nbformat_minor": 2
}
